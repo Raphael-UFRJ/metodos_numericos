{
  "cells": [
    {
      "cell_type": "markdown",
      "metadata": {
        "id": "8xMh52wO02-i"
      },
      "source": [
        "# Trabalho 01 - Métodos Numéricos\n",
        "Alunos:\n",
        "\n",
        "          Raphael Mauricio Sanches de jesus - 124062300\n",
        "          Wladimir Augusto Pereira das Neves - 124062562\n",
        "          \n",
        "____\n",
        "Compreendendo o problema inicial...\n",
        "\n",
        "## Revisão da Montagem de \\( A \\) e \\( b \\)\n",
        "\n",
        "A matriz \\( A \\) é definida por:\n",
        "$\\textbf{a}_{ij} = \\frac{1}{i+j}, \\quad i, j = 1, 2, \\ldots, n$\n",
        "\n",
        "O vetor \\( b \\) é definido como:\n",
        "$\\textbf{b}_{i} = \\sum_{j=1}^n a_{ij}, \\quad i = 1, 2, \\ldots, n$\n",
        "\n",
        "No exemplo dado para \\( n = 3 \\):\n",
        "$\\textbf\n",
        "A = \\begin{bmatrix}\n",
        "\\frac{1}{1+1} & \\frac{1}{1+2} & \\frac{1}{1+3} \\\\\n",
        "\\frac{1}{2+1} & \\frac{1}{2+2} & \\frac{1}{2+3} \\\\\n",
        "\\frac{1}{3+1} & \\frac{1}{3+2} & \\frac{1}{3+3}\n",
        "\\end{bmatrix}\n",
        "= \\begin{bmatrix}\n",
        "\\frac{1}{2} & \\frac{1}{3} & \\frac{1}{4} \\\\\n",
        "\\frac{1}{3} & \\frac{1}{4} & \\frac{1}{5} \\\\\n",
        "\\frac{1}{4} & \\frac{1}{5} & \\frac{1}{6}\n",
        "\\end{bmatrix}\n",
        "$\n",
        "\n",
        "E o vetor \\( b \\) é a soma dos elementos de cada linha da matriz \\( A \\):\n",
        "\n",
        "$\\textbf\n",
        "b = \\left[ \\sum_{j=1}^n a_{1j}, \\sum_{j=1}^n a_{2j}, \\sum_{j=1}^n a_{3j} \\right] = \\left[ \\frac{13}{12}, \\frac{47}{60}, \\frac{37}{60} \\right]\n",
        "$\n"
      ]
    },
    {
      "cell_type": "markdown",
      "metadata": {
        "id": "-Bu60mi50olm"
      },
      "source": [
        "## Importação das Bibliotecas e Função para Construir o Sistema\n",
        "\n",
        "Esta célula importa as bibliotecas necessárias (`numpy` e `pandas`) e define uma função para construir a matriz \\( A \\) e o vetor \\( b \\).\n"
      ]
    },
    {
      "cell_type": "code",
      "execution_count": null,
      "metadata": {
        "colab": {
          "background_save": true
        },
        "id": "Aqm1S6QtJa8F"
      },
      "outputs": [],
      "source": [
        "import numpy as np\n",
        "import pandas as pd"
      ]
    },
    {
      "cell_type": "code",
      "execution_count": null,
      "metadata": {
        "colab": {
          "base_uri": "https://localhost:8080/"
        },
        "id": "1pPsIJDd1Ayn",
        "outputId": "346f7b60-a27a-40fc-85b7-1c757977622a"
      },
      "outputs": [
        {
          "output_type": "stream",
          "name": "stdout",
          "text": [
            "Matriz A para n=3:\n",
            "[[0.5        0.33333333 0.25      ]\n",
            " [0.33333333 0.25       0.2       ]\n",
            " [0.25       0.2        0.16666667]]\n",
            "\n",
            "Vetor b para n=3:\n",
            "[1.08333333 0.78333333 0.61666667]\n"
          ]
        }
      ],
      "source": [
        "def construir_sistema(n: int, dtype=np.float64) -> tuple[np.ndarray, np.ndarray]:\n",
        "    # Montagem da matriz A com o tipo de dado especificado\n",
        "    A = np.array([[1 / (i + j) for j in range(1, n + 1)] for i in range(1, n + 1)], dtype=dtype)\n",
        "    # Montagem do vetor b como a soma dos elementos de cada linha de A\n",
        "    b = np.sum(A, axis=1)\n",
        "    return A, b\n",
        "\n",
        "# Teste com uma matriz pequena (n = 3) para verificar a montagem correta\n",
        "A, b = construir_sistema(3)\n",
        "print(\"Matriz A para n=3:\")\n",
        "print(A)\n",
        "print(\"\\nVetor b para n=3:\")\n",
        "print(b)"
      ]
    },
    {
      "cell_type": "markdown",
      "metadata": {
        "id": "IiOznVpK1JdL"
      },
      "source": [
        "**Explicação:** Esta função cria a matriz \\( A \\) onde cada elemento é $\\textbf{a}_{\\textbf{ij}} = \\frac{1}{i+j+1}$  e o vetor \\( b \\) como a soma de cada linha da matriz \\( A \\)."
      ]
    },
    {
      "cell_type": "markdown",
      "metadata": {
        "id": "ZpESl1BKHwrn"
      },
      "source": [
        "## Implementação da Decomposição LU com Pivotamento Parcial\n",
        "- Para melhorar a estabilidade numérica, é essencial implementar a decomposição LU com pivotamento parcial."
      ]
    },
    {
      "cell_type": "code",
      "execution_count": null,
      "metadata": {
        "id": "v243cSv7HQo5"
      },
      "outputs": [],
      "source": [
        "def decopondo_lu_pivotando(A: np.ndarray) -> tuple[np.ndarray, np.ndarray, np.ndarray]:\n",
        "    # Inicializando as matrizes L, U e P\n",
        "    n = A.shape[0]\n",
        "    U = A.copy()\n",
        "    L = np.eye(n, dtype=A.dtype)\n",
        "    P = np.eye(n, dtype=A.dtype)\n",
        "    for k in range(n-1):\n",
        "        # Encontrar o índice do maior elemento em módulo na coluna k a partir da linha k\n",
        "        max_index = np.argmax(np.abs(U[k:, k])) + k\n",
        "        # Trocar as linhas se necessário\n",
        "        if max_index != k:\n",
        "            U[[k, max_index]] = U[[max_index, k]]\n",
        "            P[[k, max_index]] = P[[max_index, k]]\n",
        "            if k > 0:\n",
        "                L[[k, max_index], :k] = L[[max_index, k], :k]\n",
        "        # Eliminação\n",
        "        for i in range(k+1, n):\n",
        "            L[i, k] = U[i, k] / U[k, k]\n",
        "            U[i, k:] -= L[i, k] * U[k, k:]\n",
        "    return P, L, U"
      ]
    },
    {
      "cell_type": "markdown",
      "metadata": {
        "id": "g3D5-OA4JoIQ"
      },
      "source": [
        "Explicação:\n",
        "\n",
        "Função decompor_lu_pivotamento: Implementa a decomposição LU com pivotamento parcial, garantindo maior estabilidade numérica.\n",
        "\n",
        "Pivotamento Parcial: Troca de linhas para posicionar o maior elemento em módulo na posição de pivô, reduzindo erros numéricos."
      ]
    },
    {
      "cell_type": "markdown",
      "metadata": {
        "id": "ScAu52SMq9mx"
      },
      "source": [
        "### Sem uso de funções externas:"
      ]
    },
    {
      "cell_type": "code",
      "execution_count": null,
      "metadata": {
        "id": "hLfV2YUOrB_g"
      },
      "outputs": [],
      "source": [
        "def decopondo_lu_pivotando_manual(A: np.ndarray) -> tuple[np.ndarray, np.ndarray, np.ndarray]:\n",
        "    \"\"\"\n",
        "    Realiza a decomposição LU com pivotamento parcial sem usar funções externas como np.argmax.\n",
        "    \"\"\"\n",
        "    n = len(A)\n",
        "    U = A.copy()\n",
        "    L = np.eye(n)\n",
        "    P = np.eye(n)\n",
        "\n",
        "    # Percorre as colunas\n",
        "    for k in range(n-1):\n",
        "        # Encontrar o índice do maior valor absoluto em U na coluna k a partir da linha k\n",
        "        max_index = k\n",
        "        max_value = abs(U[k][k])\n",
        "\n",
        "        for i in range(k+1, n):\n",
        "            if abs(U[i][k]) > max_value:\n",
        "                max_value = abs(U[i][k])\n",
        "                max_index = i\n",
        "\n",
        "        # Trocar as linhas se necessário (pivotamento)\n",
        "        if max_index != k:\n",
        "            # Troca as linhas de U\n",
        "            U[k], U[max_index] = U[max_index].copy(), U[k].copy()\n",
        "\n",
        "            # Troca as linhas da matriz de permutação P\n",
        "            P[k], P[max_index] = P[max_index].copy(), P[k].copy()\n",
        "\n",
        "            # Troca as linhas correspondentes em L até a coluna k\n",
        "            if k > 0:\n",
        "                L[k, :k], L[max_index, :k] = L[max_index, :k].copy(), L[k, :k].copy()\n",
        "\n",
        "        # Eliminação de Gauss\n",
        "        for i in range(k+1, n):\n",
        "            L[i][k] = U[i][k] / U[k][k]\n",
        "            for j in range(k, n):\n",
        "                U[i][j] -= L[i][k] * U[k][j]\n",
        "\n",
        "    return P, L, U"
      ]
    },
    {
      "cell_type": "markdown",
      "metadata": {
        "id": "7NRGghSQH3gu"
      },
      "source": [
        "## Função para Resolver o Sistema usando a Decomposição LU com Pivotamento"
      ]
    },
    {
      "cell_type": "code",
      "execution_count": null,
      "metadata": {
        "id": "IIkyuN8zH6gc"
      },
      "outputs": [],
      "source": [
        "def resolver_sistema_lu_pivotamento(P: np.ndarray, L: np.ndarray, U: np.ndarray, b: np.ndarray) -> np.ndarray:\n",
        "    # Aplicar a permutação ao vetor b\n",
        "    Pb = P @ b\n",
        "    # Resolução de Ly = Pb (substituição forward)\n",
        "    n = L.shape[0]\n",
        "    y = np.zeros_like(b)\n",
        "    for i in range(n):\n",
        "        y[i] = Pb[i] - L[i, :i] @ y[:i]\n",
        "    # Resolução de Ux = y (substituição backward)\n",
        "    x = np.zeros_like(b)\n",
        "    for i in reversed(range(n)):\n",
        "        if U[i, i] == 0:\n",
        "            raise ZeroDivisionError(\"Divisão por zero na substituição backward.\")\n",
        "        x[i] = (y[i] - U[i, i+1:] @ x[i+1:]) / U[i, i]\n",
        "    return x"
      ]
    },
    {
      "cell_type": "markdown",
      "metadata": {
        "id": "vp78ITPZJ_v-"
      },
      "source": [
        "Explicação:\n",
        "\n",
        "Função resolver_sistema_lu_pivotamento: Resolve o sistema linear usando as matrizes P, L e U obtidas na decomposição LU com pivotamento.\n",
        "\n",
        "Substituição Forward e Backward: Resolve os sistemas triangulares inferiores e superiores, respectivamente."
      ]
    },
    {
      "cell_type": "markdown",
      "metadata": {
        "id": "ZrhPcB9l1GDo"
      },
      "source": [
        "## Resolução do Sistema Linear e Cálculo do Número de Condicionamento\n",
        "\n",
        "Esta célula resolve o sistema linear para cada valor de \\( n \\) e calcula o número de condicionamento da matriz \\( A \\)."
      ]
    },
    {
      "cell_type": "markdown",
      "metadata": {
        "id": "87e9-HxhImtt"
      },
      "source": [
        "☠️***VERSÃO ANTIGA, NÃO USAR!*** 🛑"
      ]
    },
    {
      "cell_type": "code",
      "execution_count": null,
      "metadata": {
        "colab": {
          "base_uri": "https://localhost:8080/"
        },
        "collapsed": true,
        "id": "Z5vcKDf_29xC",
        "outputId": "d43ea8f7-d38f-4a84-96d7-e3478d3c3466"
      },
      "outputs": [
        {
          "name": "stdout",
          "output_type": "stream",
          "text": [
            "     n       cond(A)  Estimativa cond(A)  Erro Relativo\n",
            "0    2  3.840927e+01            0.736466   0.000000e+00\n",
            "1    3  1.307161e+03            0.292008   1.909282e-14\n",
            "2    4  3.926016e+04            0.281528   9.427838e-13\n",
            "3    5  6.889075e+04            0.294212   3.022118e-13\n",
            "4    6  1.106122e+05            0.248669   1.029459e-12\n",
            "5    7  1.548166e+05            0.355825   3.222725e-12\n",
            "6    8  4.530362e+06            0.600686   9.430898e-11\n",
            "7    9  1.082071e+05            0.221246   1.022642e-12\n",
            "8   10  5.590502e+04            0.020210   1.347071e-12\n",
            "9   11  5.372282e+04            0.068035   1.623336e-12\n",
            "10  12  7.728194e+04            0.130955   7.854975e-13\n",
            "11  13  4.461156e+04            0.065978   8.317495e-13\n",
            "12  14  6.763492e+04            0.153455   6.527377e-13\n",
            "13  15  7.243809e+04            0.226831   8.804752e-13\n",
            "14  16  8.151876e+04            0.017423   2.535964e-12\n",
            "15  17  1.275679e+05            0.061511   1.231326e-12\n",
            "16  18  3.265083e+05            0.257422   2.552185e-12\n",
            "17  19  1.197884e+05            0.055780   8.350806e-13\n",
            "18  20  1.195369e+05            0.058752   9.835825e-13\n",
            "19  21  1.222724e+05            0.146298   1.422326e-12\n",
            "20  22  5.625024e+04            0.279625   9.494094e-13\n",
            "21  23  1.823713e+05            0.470422   8.538536e-13\n",
            "22  24  4.654190e+04            0.101717   1.005291e-12\n",
            "23  25  5.829332e+05            0.486085   2.651459e-12\n",
            "24  26  4.761418e+04            0.125988   8.149735e-13\n",
            "25  27  1.750460e+05            0.209916   1.258202e-12\n",
            "26  28  4.802586e+06            0.148141   2.440594e-11\n",
            "27  29  1.514966e+05            0.250163   2.170962e-12\n",
            "28  30  3.387650e+07            0.112845   1.140932e-10\n"
          ]
        }
      ],
      "source": [
        "# Lista para armazenar os resultados - VERSÃO ANTIGA, NÃO USAR!\n",
        "resultados = []\n",
        "\n",
        "# Loop para resolver o sistema linear e calcular o número de condicionamento\n",
        "for n in range(2, 31):\n",
        "    A, b = construir_sistema(n)\n",
        "    x_exact = np.ones(n)  # Solução exata conhecida, todos elementos iguais a 1\n",
        "    x_approx = np.linalg.solve(A, b)  # Solução aproximada calculada - Ainda vou mudar pelo meu próprio algoritmo.\n",
        "\n",
        "    # Calculando o número de condicionamento da matriz A\n",
        "    cond_A = np.linalg.cond(A)\n",
        "\n",
        "    # Perturbação para estimativa de cond(A)\n",
        "    perturbacao = 1e-5\n",
        "    y_tilde = x_approx + perturbacao * np.random.randn(n)  # Solução perturbada\n",
        "\n",
        "    # Recalculando b usando a solução perturbada\n",
        "    b_perturbado = A @ y_tilde\n",
        "\n",
        "    # Estimativa de cond(A) usando a definição dada\n",
        "    cond_A_estimado = np.linalg.norm(b_perturbado - b) / (perturbacao * np.linalg.norm(b))\n",
        "\n",
        "    # Calculando o erro relativo\n",
        "    erro_relativo = np.linalg.norm(x_exact - x_approx) / np.linalg.norm(x_exact)\n",
        "\n",
        "    # Adicionando os resultados à lista\n",
        "    resultados.append([n, cond_A, cond_A_estimado, erro_relativo])\n",
        "\n",
        "# Convertendo resultados para DataFrame e exibindo\n",
        "df_resultados = pd.DataFrame(resultados, columns=['n', 'cond(A)', 'Estimativa cond(A)', 'Erro Relativo'])\n",
        "print(df_resultados)"
      ]
    },
    {
      "cell_type": "markdown",
      "metadata": {
        "id": "LMIDTrSFsNZD"
      },
      "source": [
        "### Ao construir comente ou descomente com base na função de decomposição usada."
      ]
    },
    {
      "cell_type": "code",
      "execution_count": null,
      "metadata": {
        "id": "wr0qI3qYJE5O"
      },
      "outputs": [],
      "source": [
        "resultados = []\n",
        "\n",
        "for n in range(2, 31):\n",
        "    # Construir o sistema com precisão simples\n",
        "    A_single, b_single = construir_sistema(n, dtype=np.float32)\n",
        "    x_exact = np.ones(n, dtype=np.float32)\n",
        "\n",
        "    # Decomposição LU com pivotamento\n",
        "    # P_single, L_single, U_single = decopondo_lu_pivotando(A_single)\n",
        "    P_single, L_single, U_single = decopondo_lu_pivotando_manual(A_single)\n",
        "\n",
        "    # Resolver o sistema\n",
        "    x_approx_single = resolver_sistema_lu_pivotamento(P_single, L_single, U_single, b_single)\n",
        "\n",
        "    # Calcular o erro relativo inicial\n",
        "    erro_relativo_single = np.linalg.norm(x_exact - x_approx_single) / np.linalg.norm(x_exact)\n",
        "\n",
        "    # Calcular o número de condicionamento com precisão dupla\n",
        "    A_double = A_single.astype(np.float64)\n",
        "    cond_A = np.linalg.cond(A_double)\n",
        "\n",
        "    # Converter as matrizes para precisão dupla\n",
        "    P_double = P_single.astype(np.float64)\n",
        "    L_double = L_single.astype(np.float64)\n",
        "    U_double = U_single.astype(np.float64)\n",
        "\n",
        "    # Calcular o resíduo e resolver Ay = r com precisão dupla usando suas funções\n",
        "    b_double = b_single.astype(np.float64)\n",
        "    x_approx = x_approx_single.astype(np.float64)\n",
        "    r = b_double - A_double @ x_approx\n",
        "    y_tilde = resolver_sistema_lu_pivotamento(P_double, L_double, U_double, r)\n",
        "\n",
        "    # Estimar cond(A)\n",
        "    t = 16  # Número de dígitos significativos em precisão dupla\n",
        "    cond_A_estimado = (np.linalg.norm(y_tilde) / np.linalg.norm(x_approx)) * (10 ** t)\n",
        "\n",
        "    # Armazenar os resultados\n",
        "    resultados.append([n, cond_A, cond_A_estimado, erro_relativo_single])\n"
      ]
    },
    {
      "cell_type": "markdown",
      "metadata": {
        "id": "n9D7tSaN3FEd"
      },
      "source": [
        "**Explicação:** Para cada valor de \\( n \\), o sistema linear é resolvido, o número de condicionamento é calculado, e uma estimativa de $\\textbf{cond}\\textbf(A) $ é obtida usando uma solução perturbada.\n",
        "\n",
        "Controle de Precisão:\n",
        "\n",
        "- Solução Inicial em Precisão Simples: A solução inicial é calculada com np.float32 para simular erros de arredondamento.\n",
        "\n",
        "- Cálculos de Resíduo e Correção em Precisão Dupla: As matrizes e vetores são convertidos para np.float64 para melhorar a precisão nos cálculos subsequentes.\n",
        "\n",
        "\n",
        "Resolução de 𝐴𝑦=𝑟: A função resolver_sistema_lu_pivotamento é usada para resolver 𝐴𝑦=𝑟, conforme solicitado.\n",
        "\n",
        "Estimativa de cond(𝐴):\n",
        "\n",
        "Utiliza a fórmula fornecida no exercício, garantindo que os requisitos sejam atendidos."
      ]
    },
    {
      "cell_type": "markdown",
      "metadata": {
        "id": "m9wKsofA39jq"
      },
      "source": [
        "## Exibição da Tabela de Resultados\n",
        "\n",
        "Esta célula converte a lista de resultados em um DataFrame do Pandas e exibe a tabela."
      ]
    },
    {
      "cell_type": "code",
      "execution_count": null,
      "metadata": {
        "colab": {
          "base_uri": "https://localhost:8080/"
        },
        "id": "A4RsHE5P3KPP",
        "outputId": "072291ca-a566-49a7-fc40-a015768f7303"
      },
      "outputs": [
        {
          "output_type": "stream",
          "name": "stdout",
          "text": [
            "     n       cond(A)  Estimativa cond(A)  Erro Relativo\n",
            "0    2  3.847403e+01        1.296619e+03   2.827296e-07\n",
            "1    3  1.353295e+03        6.020041e+09   4.229410e-06\n",
            "2    4  4.588514e+04        5.195270e+10   3.096104e-04\n",
            "3    5  1.544216e+06        1.178355e+12   6.271981e-04\n",
            "4    6  5.830156e+07        2.260288e+14   1.515769e-01\n",
            "5    7  1.568711e+09        7.753508e+16   5.164349e+01\n",
            "6    8  1.238385e+09        3.163553e+15   4.356218e+01\n",
            "7    9  1.310834e+09        6.525276e+16   1.984677e+02\n",
            "8   10  1.057041e+09        1.597123e+16   3.447036e+01\n",
            "9   11  9.986444e+08        1.150795e+16   1.653326e+01\n",
            "10  12  2.367805e+09        1.813299e+16   2.283072e+01\n",
            "11  13  1.719803e+09        1.704914e+16   2.815996e+01\n",
            "12  14  1.256875e+09        5.623286e+16   7.100710e+01\n",
            "13  15  4.046226e+09        8.768432e+16   1.424644e+02\n",
            "14  16  5.960935e+10        3.114343e+16   3.172075e+01\n",
            "15  17  7.822756e+09        2.257319e+16   3.226176e+01\n",
            "16  18  3.673570e+09        1.409934e+16   3.836504e+01\n",
            "17  19  1.089980e+10        1.272612e+16   2.956513e+01\n",
            "18  20  1.651807e+10        2.850047e+16   2.407112e+01\n",
            "19  21  1.985602e+09        1.290332e+16   7.566290e+01\n",
            "20  22  8.621326e+09        1.137903e+16   1.473169e+01\n",
            "21  23  1.051480e+10        1.793321e+16   6.573769e+01\n",
            "22  24  3.038103e+11        1.414198e+16   2.702844e+01\n",
            "23  25  5.842498e+10        5.764684e+16   4.902387e+01\n",
            "24  26  2.166041e+10        5.202272e+16   1.158603e+02\n",
            "25  27  5.778653e+10        1.814389e+16   3.055928e+01\n",
            "26  28  7.208769e+10        1.409077e+16   2.164759e+01\n",
            "27  29  6.080444e+09        6.528028e+16   3.804876e+01\n",
            "28  30  7.980832e+09        2.596107e+16   4.787548e+01\n"
          ]
        }
      ],
      "source": [
        "# Convertendo resultados para DataFrame e exibindo\n",
        "df_resultados = pd.DataFrame(resultados, columns=['n', 'cond(A)', 'Estimativa cond(A)', 'Erro Relativo'])\n",
        "print(df_resultados)"
      ]
    },
    {
      "cell_type": "markdown",
      "metadata": {
        "id": "JQkPHVA84t1u"
      },
      "source": [
        "**Explicação:** A tabela exibe o valor de \\( n \\), o número de condicionamento da matriz, a estimativa de  $\\textbf{cond}(A)$, e o erro relativo da solução.\n"
      ]
    },
    {
      "cell_type": "markdown",
      "metadata": {
        "id": "6y3erae549N5"
      },
      "source": [
        "## Aplicação do Refinamento Iterativo\n",
        "\n",
        "Esta célula aplica o refinamento iterativo para o sistema \\( n = 30 \\) para verificar se a solução aproximada pode ser melhorada."
      ]
    },
    {
      "cell_type": "markdown",
      "metadata": {
        "id": "7XDegbMwZsMh"
      },
      "source": [
        "☠️***VERSÃO ANTIGA, NÃO USAR!*** 🛑"
      ]
    },
    {
      "cell_type": "code",
      "execution_count": null,
      "metadata": {
        "colab": {
          "base_uri": "https://localhost:8080/"
        },
        "id": "BkgvQaHe5CEL",
        "outputId": "4a3d982a-39d9-466c-a0b3-9c5c87022356"
      },
      "outputs": [
        {
          "name": "stdout",
          "output_type": "stream",
          "text": [
            "A solução aproximada melhorou com o refinamento iterativo? Não\n",
            "Resíduo (r) com precisão de 8 casas decimais:\n",
            "[-0.  0. -0.  0. -0. -0. -0. -0.  0.  0.  0. -0.  0.  0.  0. -0. -0.  0.\n",
            " -0. -0. -0. -0.  0.  0. -0. -0.  0. -0. -0.  0.]\n",
            "Solução refinada (x_refinado) com precisão de 8 casas decimais:\n",
            "[   0.99998306    1.00137503    0.96369887    1.45595806   -2.17123705\n",
            "   14.0062786   -30.42177274   41.21416114  -12.06346709  -26.35136666\n",
            "   26.59906831   -2.45689945   11.82566512   -1.31248348  -41.258776\n",
            "   62.06681305  -36.34439772   -7.6486205     9.49878662   39.66957689\n",
            "   21.25454952 -103.23288244   32.73196541   36.53839936    5.89422257\n",
            "  -25.058008     17.31482748  -11.72803575    5.88673444    1.12588429]\n"
          ]
        }
      ],
      "source": [
        "# Refinamento Iterativo para n = 30\n",
        "n = 30\n",
        "A, b = construir_sistema(n)\n",
        "x_approx = np.linalg.solve(A, b)  # Solução inicial aproximada\n",
        "\n",
        "# Garantindo precisão dupla\n",
        "A = A.astype(np.float64)\n",
        "b = b.astype(np.float64)\n",
        "x_approx = x_approx.astype(np.float64)\n",
        "\n",
        "# Calculando o resíduo com precisão máxima\n",
        "r = b - A @ x_approx\n",
        "\n",
        "# Solução do sistema Ay = r\n",
        "correction = np.linalg.solve(A, r)\n",
        "x_refinado = x_approx + correction\n",
        "\n",
        "# Verificando se a solução melhorou\n",
        "melhora = np.linalg.norm(x_refinado - x_approx) < np.linalg.norm(r)\n",
        "print(f\"A solução aproximada melhorou com o refinamento iterativo? {'Sim' if melhora else 'Não'}\")\n",
        "\n",
        "# Exibindo o resíduo e a solução refinada com precisão de 8 casas decimais\n",
        "print(f\"Resíduo (r) com precisão de 8 casas decimais:\\n{np.round(r, 8)}\")\n",
        "print(f\"Solução refinada (x_refinado) com precisão de 8 casas decimais:\\n{np.round(x_refinado, 8)}\")"
      ]
    },
    {
      "cell_type": "code",
      "execution_count": null,
      "metadata": {
        "colab": {
          "base_uri": "https://localhost:8080/"
        },
        "id": "6G2fwM6rKpoK",
        "outputId": "20e72eed-9f17-4880-c440-b866a8608c3d"
      },
      "outputs": [
        {
          "name": "stdout",
          "output_type": "stream",
          "text": [
            "Iteração 1, Erro Relativo: 2.919006e+01\n",
            "Iteração 2, Erro Relativo: 2.919006e+01\n",
            "Iteração 3, Erro Relativo: 2.919006e+01\n",
            "Iteração 4, Erro Relativo: 2.919006e+01\n",
            "Iteração 5, Erro Relativo: 2.919006e+01\n",
            "Iteração 6, Erro Relativo: 2.919006e+01\n",
            "Iteração 7, Erro Relativo: 2.919006e+01\n",
            "Iteração 8, Erro Relativo: 2.919006e+01\n",
            "Iteração 9, Erro Relativo: 2.919006e+01\n",
            "Iteração 10, Erro Relativo: 2.919006e+01\n",
            "Iteração 11, Erro Relativo: 2.919006e+01\n",
            "Iteração 12, Erro Relativo: 2.919006e+01\n",
            "Iteração 13, Erro Relativo: 2.919006e+01\n",
            "Iteração 14, Erro Relativo: 2.919006e+01\n",
            "Iteração 15, Erro Relativo: 2.919006e+01\n",
            "Iteração 16, Erro Relativo: 2.919006e+01\n",
            "Iteração 17, Erro Relativo: 2.919006e+01\n",
            "Iteração 18, Erro Relativo: 2.919006e+01\n",
            "Iteração 19, Erro Relativo: 2.919006e+01\n",
            "Iteração 20, Erro Relativo: 2.919006e+01\n",
            "Iteração 21, Erro Relativo: 2.919006e+01\n",
            "Iteração 22, Erro Relativo: 2.919006e+01\n",
            "Iteração 23, Erro Relativo: 2.919006e+01\n",
            "Iteração 24, Erro Relativo: 2.919006e+01\n",
            "Iteração 25, Erro Relativo: 2.919006e+01\n",
            "Iteração 26, Erro Relativo: 2.919006e+01\n",
            "Iteração 27, Erro Relativo: 2.919006e+01\n",
            "Iteração 28, Erro Relativo: 2.919006e+01\n",
            "Iteração 29, Erro Relativo: 2.919006e+01\n",
            "Iteração 30, Erro Relativo: 2.919006e+01\n",
            "Iteração 31, Erro Relativo: 2.919006e+01\n",
            "Iteração 32, Erro Relativo: 2.919006e+01\n",
            "Iteração 33, Erro Relativo: 2.919006e+01\n",
            "Iteração 34, Erro Relativo: 2.919006e+01\n",
            "Iteração 35, Erro Relativo: 2.919006e+01\n",
            "Iteração 36, Erro Relativo: 2.919006e+01\n",
            "Iteração 37, Erro Relativo: 2.919006e+01\n",
            "Iteração 38, Erro Relativo: 2.919006e+01\n",
            "Iteração 39, Erro Relativo: 2.919006e+01\n",
            "Iteração 40, Erro Relativo: 2.919006e+01\n",
            "Iteração 41, Erro Relativo: 2.919006e+01\n",
            "Iteração 42, Erro Relativo: 2.919006e+01\n",
            "Iteração 43, Erro Relativo: 2.919006e+01\n",
            "Iteração 44, Erro Relativo: 2.919006e+01\n",
            "Iteração 45, Erro Relativo: 2.919006e+01\n",
            "Iteração 46, Erro Relativo: 2.919006e+01\n",
            "Iteração 47, Erro Relativo: 2.919006e+01\n",
            "Iteração 48, Erro Relativo: 2.919006e+01\n",
            "Iteração 49, Erro Relativo: 2.919006e+01\n",
            "Iteração 50, Erro Relativo: 2.919006e+01\n",
            "Solução final (x_approx) com precisão de 8 casas decimais:\n",
            "[  0.98105917   1.33758634  -0.90709739   5.93580848  -4.42724052\n",
            "  -7.68496081  40.99887883 -30.08506142 -38.40525186  44.83399664\n",
            "   6.76984701   2.67211433  20.09216362 -32.64077886  16.50781546\n",
            "  -4.47384209 -32.49384789  -8.76575268  13.32064165  54.42108515\n",
            "  -7.77788752 -46.43562581  35.39000208  46.9366774  -51.46902244\n",
            " -18.16741869  42.22117758 -13.22060658 -39.42735658  33.96389142]\n"
          ]
        }
      ],
      "source": [
        "n = 30\n",
        "# Construir o sistema\n",
        "A_single, b_single = construir_sistema(n, dtype=np.float32)\n",
        "\n",
        "# Decomposição LU com pivotamento\n",
        "# P_single, L_single, U_single = decopondo_lu_pivotando(A_single)\n",
        "P_single, L_single, U_single = decopondo_lu_pivotando_manual(A_single)\n",
        "\n",
        "# Resolver o sistema\n",
        "x_approx_single = resolver_sistema_lu_pivotamento(P_single, L_single, U_single, b_single)\n",
        "\n",
        "# Converter para precisão dupla para o refinamento\n",
        "A_double = A_single.astype(np.float64)\n",
        "b_double = b_single.astype(np.float64)\n",
        "x_approx = x_approx_single.astype(np.float64)\n",
        "\n",
        "# Solução exata\n",
        "x_exact = np.ones(n, dtype=np.float64)\n",
        "\n",
        "'''# Aplicar o refinamento iterativo\n",
        "num_iterations = 50\n",
        "for iteration in range(num_iterations):\n",
        "    # Calcular o resíduo\n",
        "    r = b_double - A_double @ x_approx\n",
        "    # Resolver Ay = r\n",
        "    delta_x = np.linalg.solve(A_double, r)\n",
        "    # Atualizar a solução aproximada\n",
        "    x_approx += delta_x\n",
        "    # Calcular o erro relativo\n",
        "    erro_relativo = np.linalg.norm(x_exact - x_approx) / np.linalg.norm(x_exact)\n",
        "    print(f\"Iteração {iteration+1}, Erro Relativo: {erro_relativo:e}\")'''\n",
        "\n",
        "# Aplicar o refinamento iterativo com critério de convergência\n",
        "num_iterations = 50\n",
        "tol = 1e-10  # Tolerância para critério de convergência\n",
        "\n",
        "for iteration in range(num_iterations):\n",
        "    # Calcular o resíduo\n",
        "    r = b_double - A_double @ x_approx\n",
        "\n",
        "    # Resolver Ay = r\n",
        "    delta_x = np.linalg.solve(A_double, r)\n",
        "\n",
        "    # Atualizar a solução aproximada\n",
        "    x_approx += delta_x\n",
        "\n",
        "    # Calcular o erro relativo\n",
        "    erro_relativo = np.linalg.norm(x_exact - x_approx) / np.linalg.norm(x_exact)\n",
        "    print(f\"Iteração {iteration+1}, Erro Relativo: {erro_relativo:e}\")\n",
        "\n",
        "    # Verificar critério de convergência\n",
        "    if np.linalg.norm(delta_x) < tol:\n",
        "        print(f\"Convergência atingida na iteração {iteration+1}\")\n",
        "        break\n",
        "\n",
        "# Exibir a solução final com precisão de 8 casas decimais\n",
        "print(f\"Solução final (x_approx) com precisão de 8 casas decimais:\\n{np.round(x_approx, 8)}\")"
      ]
    },
    {
      "cell_type": "markdown",
      "metadata": {
        "id": "ASLcLBcdllDB"
      },
      "source": [
        "## Testando"
      ]
    },
    {
      "cell_type": "code",
      "execution_count": null,
      "metadata": {
        "colab": {
          "base_uri": "https://localhost:8080/"
        },
        "collapsed": true,
        "id": "RVyuEqrkg0qV",
        "outputId": "94f729a0-c05a-4e5c-af09-71052265fda4"
      },
      "outputs": [
        {
          "name": "stdout",
          "output_type": "stream",
          "text": [
            "Iteração 1, Erro Relativo: 2.919006e+01\n",
            "Resíduo na iteração 1: 6.135426335717442e-15\n",
            "Correção (delta_x) na iteração 1: 2.7888903972961074e-06\n",
            "Iteração 2, Erro Relativo: 2.919006e+01\n",
            "Resíduo na iteração 2: 4.7142009730465664e-15\n",
            "Correção (delta_x) na iteração 2: 4.428665834156669e-06\n",
            "Iteração 3, Erro Relativo: 2.919006e+01\n",
            "Resíduo na iteração 3: 4.45059594796403e-15\n",
            "Correção (delta_x) na iteração 3: 3.2244381016600056e-06\n",
            "Iteração 4, Erro Relativo: 2.919006e+01\n",
            "Resíduo na iteração 4: 4.039747513986448e-15\n",
            "Correção (delta_x) na iteração 4: 4.088527554666953e-06\n",
            "Iteração 5, Erro Relativo: 2.919006e+01\n",
            "Resíduo na iteração 5: 6.3311922057810455e-15\n",
            "Correção (delta_x) na iteração 5: 2.947887941139864e-06\n",
            "Iteração 6, Erro Relativo: 2.919006e+01\n",
            "Resíduo na iteração 6: 4.558679027077474e-15\n",
            "Correção (delta_x) na iteração 6: 3.8081631744272704e-06\n",
            "Iteração 7, Erro Relativo: 2.919006e+01\n",
            "Resíduo na iteração 7: 5.89255511483504e-15\n",
            "Correção (delta_x) na iteração 7: 2.7843961115724748e-06\n",
            "Iteração 8, Erro Relativo: 2.919006e+01\n",
            "Resíduo na iteração 8: 3.602669438238049e-15\n",
            "Correção (delta_x) na iteração 8: 2.3311820229014714e-06\n",
            "Iteração 9, Erro Relativo: 2.919006e+01\n",
            "Resíduo na iteração 9: 4.6337682035233935e-15\n",
            "Correção (delta_x) na iteração 9: 1.0935005001783478e-06\n",
            "Iteração 10, Erro Relativo: 2.919006e+01\n",
            "Resíduo na iteração 10: 3.800791407964896e-15\n",
            "Correção (delta_x) na iteração 10: 5.697552301496183e-06\n",
            "Iteração 11, Erro Relativo: 2.919006e+01\n",
            "Resíduo na iteração 11: 4.145163035616955e-15\n",
            "Correção (delta_x) na iteração 11: 7.65170187167798e-06\n",
            "Iteração 12, Erro Relativo: 2.919006e+01\n",
            "Resíduo na iteração 12: 4.973749586545865e-15\n",
            "Correção (delta_x) na iteração 12: 5.408239840865494e-06\n",
            "Iteração 13, Erro Relativo: 2.919006e+01\n",
            "Resíduo na iteração 13: 4.379404155611337e-15\n",
            "Correção (delta_x) na iteração 13: 4.21601974345411e-06\n",
            "Iteração 14, Erro Relativo: 2.919006e+01\n",
            "Resíduo na iteração 14: 3.995260614663505e-15\n",
            "Correção (delta_x) na iteração 14: 1.3516281254191883e-06\n",
            "Iteração 15, Erro Relativo: 2.919006e+01\n",
            "Resíduo na iteração 15: 5.16343232802962e-15\n",
            "Correção (delta_x) na iteração 15: 2.621428977816833e-06\n",
            "Iteração 16, Erro Relativo: 2.919006e+01\n",
            "Resíduo na iteração 16: 5.026748538604307e-15\n",
            "Correção (delta_x) na iteração 16: 2.333406869426041e-06\n",
            "Iteração 17, Erro Relativo: 2.919006e+01\n",
            "Resíduo na iteração 17: 5.283775210381056e-15\n",
            "Correção (delta_x) na iteração 17: 4.096241213607186e-06\n",
            "Iteração 18, Erro Relativo: 2.919006e+01\n",
            "Resíduo na iteração 18: 3.5160957750053604e-15\n",
            "Correção (delta_x) na iteração 18: 3.7885144250978195e-06\n",
            "Iteração 19, Erro Relativo: 2.919006e+01\n",
            "Resíduo na iteração 19: 5.122689825691452e-15\n",
            "Correção (delta_x) na iteração 19: 6.725301653432065e-06\n",
            "Iteração 20, Erro Relativo: 2.919006e+01\n",
            "Resíduo na iteração 20: 5.405999569747456e-15\n",
            "Correção (delta_x) na iteração 20: 3.1654427204138046e-06\n",
            "Iteração 21, Erro Relativo: 2.919006e+01\n",
            "Resíduo na iteração 21: 4.994769877343149e-15\n",
            "Correção (delta_x) na iteração 21: 3.8879780933616584e-06\n",
            "Iteração 22, Erro Relativo: 2.919006e+01\n",
            "Resíduo na iteração 22: 5.8946465275414735e-15\n",
            "Correção (delta_x) na iteração 22: 1.908343804724238e-06\n",
            "Iteração 23, Erro Relativo: 2.919006e+01\n",
            "Resíduo na iteração 23: 3.1655961028905227e-15\n",
            "Correção (delta_x) na iteração 23: 3.43365228316996e-06\n",
            "Iteração 24, Erro Relativo: 2.919006e+01\n",
            "Resíduo na iteração 24: 4.05801323266554e-15\n",
            "Correção (delta_x) na iteração 24: 2.088678352181932e-06\n",
            "Iteração 25, Erro Relativo: 2.919006e+01\n",
            "Resíduo na iteração 25: 4.242156220644677e-15\n",
            "Correção (delta_x) na iteração 25: 3.400644591570928e-06\n",
            "Iteração 26, Erro Relativo: 2.919006e+01\n",
            "Resíduo na iteração 26: 4.628445090676577e-15\n",
            "Correção (delta_x) na iteração 26: 2.9015620946130933e-06\n",
            "Iteração 27, Erro Relativo: 2.919006e+01\n",
            "Resíduo na iteração 27: 6.406669881832587e-15\n",
            "Correção (delta_x) na iteração 27: 3.1143989528422733e-06\n",
            "Iteração 28, Erro Relativo: 2.919006e+01\n",
            "Resíduo na iteração 28: 4.941427952213725e-15\n",
            "Correção (delta_x) na iteração 28: 2.088894689066439e-06\n",
            "Iteração 29, Erro Relativo: 2.919006e+01\n",
            "Resíduo na iteração 29: 3.210061615366513e-15\n",
            "Correção (delta_x) na iteração 29: 1.6823367215871593e-06\n",
            "Iteração 30, Erro Relativo: 2.919006e+01\n",
            "Resíduo na iteração 30: 3.984447981536823e-15\n",
            "Correção (delta_x) na iteração 30: 3.598258226721762e-06\n",
            "Iteração 31, Erro Relativo: 2.919006e+01\n",
            "Resíduo na iteração 31: 5.6217203786222585e-15\n",
            "Correção (delta_x) na iteração 31: 3.39609291425112e-06\n",
            "Iteração 32, Erro Relativo: 2.919006e+01\n",
            "Resíduo na iteração 32: 3.760035443417764e-15\n",
            "Correção (delta_x) na iteração 32: 1.7478776551040374e-06\n",
            "Iteração 33, Erro Relativo: 2.919006e+01\n",
            "Resíduo na iteração 33: 3.9518325790760945e-15\n",
            "Correção (delta_x) na iteração 33: 2.1460835777754207e-06\n",
            "Iteração 34, Erro Relativo: 2.919006e+01\n",
            "Resíduo na iteração 34: 3.990630216413089e-15\n",
            "Correção (delta_x) na iteração 34: 3.6436196596247003e-06\n",
            "Iteração 35, Erro Relativo: 2.919006e+01\n",
            "Resíduo na iteração 35: 4.361071357684122e-15\n",
            "Correção (delta_x) na iteração 35: 5.118509388838844e-06\n",
            "Iteração 36, Erro Relativo: 2.919006e+01\n",
            "Resíduo na iteração 36: 6.605593752270663e-15\n",
            "Correção (delta_x) na iteração 36: 7.456481910619072e-06\n",
            "Iteração 37, Erro Relativo: 2.919006e+01\n",
            "Resíduo na iteração 37: 6.653006264380427e-15\n",
            "Correção (delta_x) na iteração 37: 2.2263413393267844e-06\n",
            "Iteração 38, Erro Relativo: 2.919006e+01\n",
            "Resíduo na iteração 38: 5.363652779335998e-15\n",
            "Correção (delta_x) na iteração 38: 3.1031453659555833e-06\n",
            "Iteração 39, Erro Relativo: 2.919006e+01\n",
            "Resíduo na iteração 39: 3.6721371296047305e-15\n",
            "Correção (delta_x) na iteração 39: 3.862993110121133e-06\n",
            "Iteração 40, Erro Relativo: 2.919006e+01\n",
            "Resíduo na iteração 40: 3.6654177513682334e-15\n",
            "Correção (delta_x) na iteração 40: 2.5740239054137058e-06\n",
            "Iteração 41, Erro Relativo: 2.919006e+01\n",
            "Resíduo na iteração 41: 3.992174279235972e-15\n",
            "Correção (delta_x) na iteração 41: 2.9726369352520854e-06\n",
            "Iteração 42, Erro Relativo: 2.919006e+01\n",
            "Resíduo na iteração 42: 3.850729778603817e-15\n",
            "Correção (delta_x) na iteração 42: 3.1434563817869255e-06\n",
            "Iteração 43, Erro Relativo: 2.919006e+01\n",
            "Resíduo na iteração 43: 4.0973096220855285e-15\n",
            "Correção (delta_x) na iteração 43: 2.9812015831772097e-06\n",
            "Iteração 44, Erro Relativo: 2.919006e+01\n",
            "Resíduo na iteração 44: 4.881194989754391e-15\n",
            "Correção (delta_x) na iteração 44: 3.2303430289759116e-06\n",
            "Iteração 45, Erro Relativo: 2.919006e+01\n",
            "Resíduo na iteração 45: 5.424209304075104e-15\n",
            "Correção (delta_x) na iteração 45: 4.1994414084361485e-06\n",
            "Iteração 46, Erro Relativo: 2.919006e+01\n",
            "Resíduo na iteração 46: 4.831702848260054e-15\n",
            "Correção (delta_x) na iteração 46: 2.9331094377425664e-06\n",
            "Iteração 47, Erro Relativo: 2.919006e+01\n",
            "Resíduo na iteração 47: 4.6827201469674984e-15\n",
            "Correção (delta_x) na iteração 47: 2.6355187824043373e-06\n",
            "Iteração 48, Erro Relativo: 2.919006e+01\n",
            "Resíduo na iteração 48: 5.913435956721791e-15\n",
            "Correção (delta_x) na iteração 48: 2.6556490155428847e-06\n",
            "Iteração 49, Erro Relativo: 2.919006e+01\n",
            "Resíduo na iteração 49: 3.67045843825776e-15\n",
            "Correção (delta_x) na iteração 49: 1.8182463794191329e-06\n",
            "Iteração 50, Erro Relativo: 2.919006e+01\n",
            "Resíduo na iteração 50: 4.6271133556207615e-15\n",
            "Correção (delta_x) na iteração 50: 3.5240957145333734e-06\n"
          ]
        }
      ],
      "source": [
        "for iteration in range(num_iterations):\n",
        "    # Calcular o resíduo\n",
        "    r = b_double - A_double @ x_approx\n",
        "\n",
        "    # Resolver Ay = r\n",
        "    delta_x = np.linalg.solve(A_double, r)\n",
        "\n",
        "    # Atualizar a solução aproximada\n",
        "    x_approx += delta_x\n",
        "\n",
        "    # Calcular o erro relativo\n",
        "    erro_relativo = np.linalg.norm(x_exact - x_approx) / np.linalg.norm(x_exact)\n",
        "    print(f\"Iteração {iteration+1}, Erro Relativo: {erro_relativo:e}\")\n",
        "    print(f\"Resíduo na iteração {iteration+1}: {np.linalg.norm(r)}\")\n",
        "    print(f\"Correção (delta_x) na iteração {iteration+1}: {np.linalg.norm(delta_x)}\")\n",
        "\n",
        "    # Verificar critério de convergência\n",
        "    if np.linalg.norm(delta_x) < tol:\n",
        "        print(f\"Convergência atingida na iteração {iteration+1}\")\n",
        "        break\n"
      ]
    },
    {
      "cell_type": "code",
      "execution_count": null,
      "metadata": {
        "colab": {
          "base_uri": "https://localhost:8080/"
        },
        "collapsed": true,
        "id": "NpAwKfGahTWG",
        "outputId": "b83b1bd9-3498-44f9-8215-8c122fcac290"
      },
      "outputs": [
        {
          "name": "stdout",
          "output_type": "stream",
          "text": [
            "Iteração 1, Erro Relativo: 3.976511e-08, Diferença no erro: -3.976511e-08\n",
            "Resíduo na iteração 1: 7.350730230132005e-07\n",
            "Correção (delta_x) na iteração 1: 188.99685180619474\n",
            "Iteração 2, Erro Relativo: 2.318306e-08, Diferença no erro: 1.658205e-08\n",
            "Resíduo na iteração 2: 4.435337509586951e-15\n",
            "Correção (delta_x) na iteração 2: 3.0653584737179916e-06\n",
            "Iteração 3, Erro Relativo: 1.663668e-08, Diferença no erro: 6.546374e-09\n",
            "Resíduo na iteração 3: 5.282608685317633e-15\n",
            "Correção (delta_x) na iteração 3: 4.5519661688756795e-06\n",
            "Iteração 4, Erro Relativo: 2.400698e-08, Diferença no erro: -7.370301e-09\n",
            "Resíduo na iteração 4: 4.890025172686938e-15\n",
            "Correção (delta_x) na iteração 4: 4.415340375255693e-06\n",
            "Iteração 5, Erro Relativo: 6.791733e-08, Diferença no erro: -4.391034e-08\n",
            "Resíduo na iteração 5: 3.643494191112748e-15\n",
            "Correção (delta_x) na iteração 5: 7.314149192276978e-06\n",
            "Iteração 6, Erro Relativo: 2.447377e-08, Diferença no erro: 4.344356e-08\n",
            "Resíduo na iteração 6: 6.2842938400131246e-15\n",
            "Correção (delta_x) na iteração 6: 7.2257190138040625e-06\n",
            "Iteração 7, Erro Relativo: 6.005398e-08, Diferença no erro: -3.558021e-08\n",
            "Resíduo na iteração 7: 6.372912259496284e-15\n",
            "Correção (delta_x) na iteração 7: 6.398377330476543e-06\n",
            "Iteração 8, Erro Relativo: 1.411439e-08, Diferença no erro: 4.593959e-08\n",
            "Resíduo na iteração 8: 4.742874840267547e-15\n",
            "Correção (delta_x) na iteração 8: 8.176597274514719e-06\n",
            "Iteração 9, Erro Relativo: 1.961492e-08, Diferença no erro: -5.500528e-09\n",
            "Resíduo na iteração 9: 4.576220257296304e-15\n",
            "Correção (delta_x) na iteração 9: 1.8210656690326109e-06\n",
            "Iteração 10, Erro Relativo: 2.083664e-08, Diferença no erro: -1.221729e-09\n",
            "Resíduo na iteração 10: 3.278449303197517e-15\n",
            "Correção (delta_x) na iteração 10: 1.5116471622244513e-06\n",
            "Iteração 11, Erro Relativo: 4.717333e-08, Diferença no erro: -2.633669e-08\n",
            "Resíduo na iteração 11: 5.156265867493347e-15\n",
            "Correção (delta_x) na iteração 11: 4.534498377739054e-06\n",
            "Iteração 12, Erro Relativo: 3.997139e-08, Diferença no erro: 7.201939e-09\n",
            "Resíduo na iteração 12: 3.594105914270484e-15\n",
            "Correção (delta_x) na iteração 12: 1.4151863564868797e-06\n",
            "Iteração 13, Erro Relativo: 1.893488e-08, Diferença no erro: 2.103651e-08\n",
            "Resíduo na iteração 13: 5.577696831995591e-15\n",
            "Correção (delta_x) na iteração 13: 3.725776572011064e-06\n",
            "Iteração 14, Erro Relativo: 2.579227e-08, Diferença no erro: -6.857386e-09\n",
            "Resíduo na iteração 14: 4.920179776082354e-15\n",
            "Correção (delta_x) na iteração 14: 1.9675635382029932e-06\n",
            "Iteração 15, Erro Relativo: 4.932129e-08, Diferença no erro: -2.352903e-08\n",
            "Resíduo na iteração 15: 4.723343357811471e-15\n",
            "Correção (delta_x) na iteração 15: 4.309434927252819e-06\n",
            "Iteração 16, Erro Relativo: 1.857277e-08, Diferença no erro: 3.074852e-08\n",
            "Resíduo na iteração 16: 3.6418022968069345e-15\n",
            "Correção (delta_x) na iteração 16: 7.456811225530644e-06\n",
            "Iteração 17, Erro Relativo: 8.232002e-09, Diferença no erro: 1.034077e-08\n",
            "Resíduo na iteração 17: 3.585521937566925e-15\n",
            "Correção (delta_x) na iteração 17: 2.2660559411236723e-06\n",
            "Iteração 18, Erro Relativo: 1.001652e-08, Diferença no erro: -1.784522e-09\n",
            "Resíduo na iteração 18: 4.857146430443073e-15\n",
            "Correção (delta_x) na iteração 18: 1.2848342908915325e-06\n",
            "Iteração 19, Erro Relativo: 9.716351e-09, Diferença no erro: 3.001732e-10\n",
            "Resíduo na iteração 19: 3.9983445677392e-15\n",
            "Correção (delta_x) na iteração 19: 1.4041260206659144e-06\n",
            "Iteração 20, Erro Relativo: 1.849034e-08, Diferença no erro: -8.773988e-09\n",
            "Resíduo na iteração 20: 6.555018492060643e-15\n",
            "Correção (delta_x) na iteração 20: 2.0962390357766676e-06\n",
            "Iteração 21, Erro Relativo: 3.194497e-08, Diferença no erro: -1.345463e-08\n",
            "Resíduo na iteração 21: 4.88624276255076e-15\n",
            "Correção (delta_x) na iteração 21: 5.035492748658145e-06\n",
            "Iteração 22, Erro Relativo: 2.564352e-08, Diferença no erro: 6.301452e-09\n",
            "Resíduo na iteração 22: 5.702268008176973e-15\n",
            "Correção (delta_x) na iteração 22: 6.13353507670732e-06\n",
            "Iteração 23, Erro Relativo: 3.843320e-08, Diferença no erro: -1.278968e-08\n",
            "Resíduo na iteração 23: 5.128701668888834e-15\n",
            "Correção (delta_x) na iteração 23: 6.717930037779553e-06\n",
            "Iteração 24, Erro Relativo: 2.903214e-08, Diferença no erro: 9.401061e-09\n",
            "Resíduo na iteração 24: 4.582949007081515e-15\n",
            "Correção (delta_x) na iteração 24: 1.691157954786799e-06\n",
            "Iteração 25, Erro Relativo: 1.351411e-08, Diferença no erro: 1.551803e-08\n",
            "Resíduo na iteração 25: 5.197930934883577e-15\n",
            "Correção (delta_x) na iteração 25: 5.208607867469004e-06\n",
            "Iteração 26, Erro Relativo: 9.248943e-09, Diferença no erro: 4.265165e-09\n",
            "Resíduo na iteração 26: 4.186586107782731e-15\n",
            "Correção (delta_x) na iteração 26: 1.3981400494121613e-06\n",
            "Iteração 27, Erro Relativo: 3.677559e-08, Diferença no erro: -2.752665e-08\n",
            "Resíduo na iteração 27: 4.7454729641766024e-15\n",
            "Correção (delta_x) na iteração 27: 5.886996777364755e-06\n",
            "Iteração 28, Erro Relativo: 4.139579e-08, Diferença no erro: -4.620198e-09\n",
            "Resíduo na iteração 28: 3.95962251878479e-15\n",
            "Correção (delta_x) na iteração 28: 1.3262033745009656e-06\n",
            "Iteração 29, Erro Relativo: 1.776202e-08, Diferença no erro: 2.363377e-08\n",
            "Resíduo na iteração 29: 4.318467880798754e-15\n",
            "Correção (delta_x) na iteração 29: 6.330232809394977e-06\n",
            "Iteração 30, Erro Relativo: 2.137561e-08, Diferença no erro: -3.613584e-09\n",
            "Resíduo na iteração 30: 5.003399623168536e-15\n",
            "Correção (delta_x) na iteração 30: 4.783358002142064e-06\n",
            "Iteração 31, Erro Relativo: 1.888725e-08, Diferença no erro: 2.488361e-09\n",
            "Resíduo na iteração 31: 3.732067169519928e-15\n",
            "Correção (delta_x) na iteração 31: 3.4959530627551644e-06\n",
            "Iteração 32, Erro Relativo: 2.923547e-08, Diferença no erro: -1.034822e-08\n",
            "Resíduo na iteração 32: 6.250861277594331e-15\n",
            "Correção (delta_x) na iteração 32: 4.709980349911152e-06\n",
            "Iteração 33, Erro Relativo: 2.277221e-08, Diferença no erro: 6.463260e-09\n",
            "Resíduo na iteração 33: 4.8824574222052825e-15\n",
            "Correção (delta_x) na iteração 33: 1.8039525790887344e-06\n",
            "Iteração 34, Erro Relativo: 1.472283e-08, Diferença no erro: 8.049376e-09\n",
            "Resíduo na iteração 34: 5.109438871555062e-15\n",
            "Correção (delta_x) na iteração 34: 2.6955229671185578e-06\n",
            "Iteração 35, Erro Relativo: 5.597587e-09, Diferença no erro: 9.125244e-09\n",
            "Resíduo na iteração 35: 4.0183325713214165e-15\n",
            "Correção (delta_x) na iteração 35: 2.126360872964844e-06\n",
            "Iteração 36, Erro Relativo: 1.963101e-08, Diferença no erro: -1.403342e-08\n",
            "Resíduo na iteração 36: 5.025522352822287e-15\n",
            "Correção (delta_x) na iteração 36: 2.9110084049800774e-06\n",
            "Iteração 37, Erro Relativo: 3.628016e-08, Diferença no erro: -1.664915e-08\n",
            "Resíduo na iteração 37: 4.321321180007179e-15\n",
            "Correção (delta_x) na iteração 37: 2.981706210834614e-06\n",
            "Iteração 38, Erro Relativo: 3.726635e-08, Diferença no erro: -9.861910e-10\n",
            "Resíduo na iteração 38: 5.005862532312609e-15\n",
            "Correção (delta_x) na iteração 38: 1.6870642963477392e-06\n",
            "Iteração 39, Erro Relativo: 3.970253e-08, Diferença no erro: -2.436179e-09\n",
            "Resíduo na iteração 39: 4.572178254219406e-15\n",
            "Correção (delta_x) na iteração 39: 1.5789469032849087e-06\n",
            "Iteração 40, Erro Relativo: 4.584052e-08, Diferença no erro: -6.137997e-09\n",
            "Resíduo na iteração 40: 4.1213057840373734e-15\n",
            "Correção (delta_x) na iteração 40: 1.4703167242702876e-06\n",
            "Iteração 41, Erro Relativo: 2.329012e-08, Diferença no erro: 2.255040e-08\n",
            "Resíduo na iteração 41: 4.942675000297229e-15\n",
            "Correção (delta_x) na iteração 41: 1.015587165626543e-05\n",
            "Iteração 42, Erro Relativo: 2.638350e-08, Diferença no erro: -3.093380e-09\n",
            "Resíduo na iteração 42: 6.889647290053792e-15\n",
            "Correção (delta_x) na iteração 42: 7.0874161068111966e-06\n",
            "Iteração 43, Erro Relativo: 1.476648e-08, Diferença no erro: 1.161702e-08\n",
            "Resíduo na iteração 43: 4.603076240534216e-15\n",
            "Correção (delta_x) na iteração 43: 2.574356314939353e-06\n",
            "Iteração 44, Erro Relativo: 3.056206e-08, Diferença no erro: -1.579558e-08\n",
            "Resíduo na iteração 44: 5.711986869896961e-15\n",
            "Correção (delta_x) na iteração 44: 2.777430415850407e-06\n",
            "Iteração 45, Erro Relativo: 2.206121e-08, Diferença no erro: 8.500846e-09\n",
            "Resíduo na iteração 45: 4.5124795972965204e-15\n",
            "Correção (delta_x) na iteração 45: 2.755189947151315e-06\n",
            "Iteração 46, Erro Relativo: 2.321684e-08, Diferença no erro: -1.155633e-09\n",
            "Resíduo na iteração 46: 4.01679856379412e-15\n",
            "Correção (delta_x) na iteração 46: 1.7359228277843577e-06\n",
            "Iteração 47, Erro Relativo: 9.428219e-09, Diferença no erro: 1.378862e-08\n",
            "Resíduo na iteração 47: 3.599246473628376e-15\n",
            "Correção (delta_x) na iteração 47: 2.9698667893442323e-06\n",
            "Iteração 48, Erro Relativo: 1.549994e-08, Diferença no erro: -6.071721e-09\n",
            "Resíduo na iteração 48: 4.463041323674983e-15\n",
            "Correção (delta_x) na iteração 48: 1.5734912693640408e-06\n",
            "Iteração 49, Erro Relativo: 9.779316e-09, Diferença no erro: 5.720623e-09\n",
            "Resíduo na iteração 49: 5.6436033744672694e-15\n",
            "Correção (delta_x) na iteração 49: 2.4158082211006625e-06\n",
            "Iteração 50, Erro Relativo: 2.976594e-08, Diferença no erro: -1.998663e-08\n",
            "Resíduo na iteração 50: 6.559717767516936e-15\n",
            "Correção (delta_x) na iteração 50: 3.7441743892895106e-06\n",
            "Solução final (x_approx) com precisão de 8 casas decimais:\n",
            "[  0.98105916   1.33758638  -0.90709765   5.93580914  -4.42724087\n",
            "  -7.68496187  40.99888024 -30.08506126 -38.40525315  44.83399747\n",
            "   6.76984726   2.67211393  20.09216415 -32.64078008  16.50781606\n",
            "  -4.47384166 -32.49384858  -8.76575275  13.32064116  54.42108632\n",
            "  -7.77788618 -46.4356277   35.39000196  46.93667883 -51.46902304\n",
            " -18.16741951  42.22117779 -13.22060606 -39.42735752  33.96389207]\n"
          ]
        }
      ],
      "source": [
        "n = 30\n",
        "# Construir o sistema\n",
        "A_single, b_single = construir_sistema(n, dtype=np.float32)\n",
        "\n",
        "# Decomposição LU com pivotamento\n",
        "P_single, L_single, U_single = decopondo_lu_pivotando(A_single)\n",
        "\n",
        "# Resolver o sistema\n",
        "x_approx_single = resolver_sistema_lu_pivotamento(P_single, L_single, U_single, b_single)\n",
        "\n",
        "# Converter para precisão dupla para o refinamento\n",
        "A_double = A_single.astype(np.float64)\n",
        "b_double = b_single.astype(np.float64)\n",
        "x_approx = x_approx_single.astype(np.float64)\n",
        "\n",
        "# Solução exata\n",
        "x_exact = np.linalg.solve(A_double, b_double)  # Calcule a solução exata corretamente\n",
        "\n",
        "# Aplicar o refinamento iterativo com critério de convergência\n",
        "num_iterations = 50\n",
        "tol = 1e-10  # Tolerância para critério de convergência\n",
        "\n",
        "for iteration in range(num_iterations):\n",
        "    # Calcular o resíduo\n",
        "    r = b_double - A_double @ x_approx\n",
        "\n",
        "    # Resolver Ay = r\n",
        "    delta_x = np.linalg.solve(A_double, r)\n",
        "\n",
        "    # Atualizar a solução aproximada\n",
        "    x_approx += delta_x\n",
        "\n",
        "    # Calcular o erro relativo\n",
        "    erro_anterior = erro_relativo if iteration > 0 else 0  # Para a primeira iteração\n",
        "    erro_relativo = np.linalg.norm(x_exact - x_approx) / np.linalg.norm(x_exact)\n",
        "    print(f\"Iteração {iteration+1}, Erro Relativo: {erro_relativo:e}, Diferença no erro: {erro_anterior - erro_relativo:e}\")\n",
        "    print(f\"Resíduo na iteração {iteration+1}: {np.linalg.norm(r)}\")\n",
        "    print(f\"Correção (delta_x) na iteração {iteration+1}: {np.linalg.norm(delta_x)}\")\n",
        "\n",
        "    # Verificar critério de convergência\n",
        "    if np.linalg.norm(delta_x) < tol:\n",
        "        print(f\"Convergência atingida na iteração {iteration+1}\")\n",
        "        break\n",
        "\n",
        "# Exibir a solução final com precisão de 8 casas decimais\n",
        "print(f\"Solução final (x_approx) com precisão de 8 casas decimais:\\n{np.round(x_approx, 8)}\")"
      ]
    },
    {
      "cell_type": "code",
      "execution_count": null,
      "metadata": {
        "colab": {
          "base_uri": "https://localhost:8080/"
        },
        "id": "95KUAc62_l0Y",
        "outputId": "e8c0dac4-47fc-490c-a4c6-7ad9b7d69ea1"
      },
      "outputs": [
        {
          "name": "stdout",
          "output_type": "stream",
          "text": [
            "Número de Condicionamento de A: 7.980832e+09\n"
          ]
        }
      ],
      "source": [
        "# Converter para precisão dupla para o refinamento\n",
        "A_double = A_single.astype(np.float64)\n",
        "b_double = b_single.astype(np.float64)\n",
        "x_approx = x_approx_single.astype(np.float64)\n",
        "\n",
        "# Solução exata\n",
        "x_exact = np.linalg.solve(A_double, b_double)  # Calcule a solução exata corretamente\n",
        "\n",
        "# Verificar o número de condicionamento de A\n",
        "cond_A = np.linalg.cond(A_double)\n",
        "print(f\"Número de Condicionamento de A: {cond_A:e}\")"
      ]
    },
    {
      "cell_type": "code",
      "execution_count": null,
      "metadata": {
        "colab": {
          "base_uri": "https://localhost:8080/"
        },
        "id": "0KKnrEM0_oGC",
        "outputId": "526daf61-b110-48c8-d842-3f4a215a72dd"
      },
      "outputs": [
        {
          "name": "stdout",
          "output_type": "stream",
          "text": [
            "Iteração 1, Erro Relativo: 3.976511e-08, Diferença no erro: -3.976511e-08\n",
            "Resíduo na iteração 1: 7.350730230132005e-07\n",
            "Correção (delta_x) na iteração 1: 188.99685180619474\n",
            "Iteração 2, Erro Relativo: 2.318306e-08, Diferença no erro: 1.658205e-08\n",
            "Resíduo na iteração 2: 4.435337509586951e-15\n",
            "Correção (delta_x) na iteração 2: 3.0653584737179916e-06\n",
            "Iteração 3, Erro Relativo: 1.663668e-08, Diferença no erro: 6.546374e-09\n",
            "Resíduo na iteração 3: 5.282608685317633e-15\n",
            "Correção (delta_x) na iteração 3: 4.5519661688756795e-06\n",
            "Convergência atingida com pequena diferença no erro relativo na iteração 3\n"
          ]
        }
      ],
      "source": [
        "# Aplicar o refinamento iterativo com critério de convergência\n",
        "num_iterations = 50\n",
        "tol = 1e-10  # Tolerância para critério de convergência\n",
        "tol_diff = 1e-8  # Tolerância para a diferença no erro relativo\n",
        "\n",
        "for iteration in range(num_iterations):\n",
        "    # Calcular o resíduo\n",
        "    r = b_double - A_double @ x_approx\n",
        "\n",
        "    # Resolver Ay = r\n",
        "    delta_x = np.linalg.solve(A_double, r)\n",
        "\n",
        "    # Atualizar a solução aproximada\n",
        "    x_approx += delta_x\n",
        "\n",
        "    # Calcular o erro relativo\n",
        "    erro_anterior = erro_relativo if iteration > 0 else 0  # Para a primeira iteração\n",
        "    erro_relativo = np.linalg.norm(x_exact - x_approx) / np.linalg.norm(x_exact)\n",
        "    print(f\"Iteração {iteration+1}, Erro Relativo: {erro_relativo:e}, Diferença no erro: {erro_anterior - erro_relativo:e}\")\n",
        "    print(f\"Resíduo na iteração {iteration+1}: {np.linalg.norm(r)}\")\n",
        "    print(f\"Correção (delta_x) na iteração {iteration+1}: {np.linalg.norm(delta_x)}\")\n",
        "\n",
        "    # Verificar critério de convergência baseado em delta_x\n",
        "    if np.linalg.norm(delta_x) < tol:\n",
        "        print(f\"Convergência atingida com correção pequena na iteração {iteration+1}\")\n",
        "        break\n",
        "\n",
        "    # Verificar critério de parada com base na diferença no erro relativo\n",
        "    if abs(erro_anterior - erro_relativo) < tol_diff:\n",
        "        print(f\"Convergência atingida com pequena diferença no erro relativo na iteração {iteration+1}\")\n",
        "        break"
      ]
    },
    {
      "cell_type": "markdown",
      "metadata": {
        "id": "ZUdZaFfH9Rvi"
      },
      "source": [
        "## Testando a solução\n",
        "Tentativa de validar a solução e comparar com metodo solve."
      ]
    },
    {
      "cell_type": "code",
      "execution_count": null,
      "metadata": {
        "colab": {
          "base_uri": "https://localhost:8080/"
        },
        "id": "gBFY6cLE7JKd",
        "outputId": "0d0e76ea-b5e6-4eea-be5f-aa0e8ee417ad"
      },
      "outputs": [
        {
          "name": "stdout",
          "output_type": "stream",
          "text": [
            "Iteração 1, Erro Relativo: 1.631013e-08, Diferença no erro: -1.631013e-08\n",
            "Iteração 2, Erro Relativo: 2.321988e-08, Diferença no erro: -6.909751e-09\n",
            "Convergência atingida com pequena diferença no erro relativo na iteração 2\n",
            "Solução exata:\n",
            "[  0.98105916   1.33758641  -0.90709785   5.93580964  -4.42724101\n",
            "  -7.68496325  40.99888201 -30.0850609  -38.40525468  44.83399798\n",
            "   6.76984717   2.67211436  20.0921645  -32.64078177  16.50781678\n",
            "  -4.47384065 -32.49384947  -8.76575254  13.32064113  54.42108677\n",
            "  -7.77788535 -46.43562931  35.39000121  46.93668052 -51.4690238\n",
            " -18.1674198   42.22117819 -13.22060531 -39.42735835  33.96389223]\n",
            "Solução aproximada após refinamento:\n",
            "[  0.98105916   1.33758638  -0.90709765   5.93580919  -4.42724107\n",
            "  -7.68496186  40.99888107 -30.08506199 -38.40525377  44.83399811\n",
            "   6.7698474    2.67211417  20.09216387 -32.6407808   16.50781694\n",
            "  -4.47384127 -32.49384945  -8.76575264  13.32064143  54.42108658\n",
            "  -7.77788657 -46.43562855  35.39000258  46.93667954 -51.46902396\n",
            " -18.1674193   42.22117834 -13.22060625 -39.42735759  33.96389199]\n"
          ]
        }
      ],
      "source": [
        "n = 30\n",
        "# Construir o sistema\n",
        "A_single, b_single = construir_sistema(n, dtype=np.float32)\n",
        "\n",
        "# Decomposição LU com pivotamento\n",
        "# P_single, L_single, U_single = decopondo_lu_pivotando(A_single)\n",
        "P_single, L_single, U_single = decopondo_lu_pivotando_manual(A_single)\n",
        "\n",
        "# Resolver o sistema diretamente usando np.linalg.solve (solução aproximada inicial)\n",
        "x_approx_single = resolver_sistema_lu_pivotamento(P_single, L_single, U_single, b_single)\n",
        "\n",
        "# Converter para precisão dupla para o refinamento\n",
        "A_double = A_single.astype(np.float64)\n",
        "b_double = b_single.astype(np.float64)\n",
        "x_approx = x_approx_single.astype(np.float64)\n",
        "\n",
        "# Solução exata com np.linalg.solve\n",
        "x_exact = np.linalg.solve(A_double, b_double)\n",
        "\n",
        "# Aplicar o refinamento iterativo\n",
        "num_iterations = 50\n",
        "tol = 1e-10\n",
        "tol_diff = 1e-8\n",
        "\n",
        "for iteration in range(num_iterations):\n",
        "    # Calcular o resíduo\n",
        "    r = b_double - A_double @ x_approx  # Calcula quanto a solução atual está longe de resolver o sistema\n",
        "\n",
        "    # Resolver o sistema A * delta_x = r para obter a correção\n",
        "    delta_x = np.linalg.solve(A_double, r)\n",
        "\n",
        "    # Atualizar a solução aproximada\n",
        "    x_approx += delta_x\n",
        "\n",
        "    # Calcular o erro relativo\n",
        "    erro_anterior = erro_relativo if iteration > 0 else 0\n",
        "    erro_relativo = np.linalg.norm(x_exact - x_approx) / np.linalg.norm(x_exact)\n",
        "    print(f\"Iteração {iteration+1}, Erro Relativo: {erro_relativo:e}, Diferença no erro: {erro_anterior - erro_relativo:e}\")\n",
        "\n",
        "    # Verificar critério de convergência com base no delta_x\n",
        "    if np.linalg.norm(delta_x) < tol:\n",
        "        print(f\"Convergência atingida com correção pequena na iteração {iteration+1}\")\n",
        "        break\n",
        "\n",
        "    # Verificar critério de parada com base na diferença no erro relativo\n",
        "    if abs(erro_anterior - erro_relativo) < tol_diff:\n",
        "        print(f\"Convergência atingida com pequena diferença no erro relativo na iteração {iteration+1}\")\n",
        "        break\n",
        "\n",
        "# Comparar as soluções\n",
        "print(f\"Solução exata:\\n{x_exact}\")\n",
        "print(f\"Solução aproximada após refinamento:\\n{x_approx}\")"
      ]
    },
    {
      "cell_type": "markdown",
      "metadata": {
        "id": "AYu16yIt5PIy"
      },
      "source": [
        "## Conclusão e Análise dos Resultados:\n",
        "\n",
        "### 1. Resolva o sistema linear Ax = b considerando n = 2, 3, 4, ..., 30 e descreva o que está acontecendo.\n",
        "- Construção da função `construir_sistema()` para montar a matriz \\(A\\) e o vetor \\(b\\) e a função `resolver_sistema_lu_pivotamento()` para resolver o sistema linear \\(Ax = b\\) usando a decomposição LU com pivotamento parcial. Implementando um loop para resolver o sistema para valores de \\(n\\) de 2 a 30. Isso está de acordo com o que foi requisitado na questão.\n",
        "  \n",
        "### 2. Utilize o numpy para calcular o número de condicionamento da matriz A para os diversos valores de n do item anterior.\n",
        "- Solução utilizando `np.linalg.cond()` para calcular o número de condicionamento da matriz \\(A\\), armazenando esses valores em uma lista que é posteriormente convertida em um DataFrame do pandas para exibição dos resultados. Isso responde à segunda questão.\n",
        "\n",
        "### 3. Utilize o numpy para estimar o valor de cond(A), ou seja, considerando que os cálculos para resolver o sistema linear utilizam um sistema aritmético de t dígitos significativos.\n",
        "- Implementando uma estimativa de `cond(A)` baseada no erro de arredondamento utilizando a fórmula mencionada na questão:\n",
        "\n",
        "$$\n",
        "\\text{cond}(A) \\approx \\frac{||\\tilde{y}||}{||\\tilde{x}||} \\times 10^t\n",
        "$$\n",
        "\n",
        "A função utiliza `np.linalg.norm` para calcular as normas e, assim, estimar `cond(A)`. Isso cobre a terceira questão.\n",
        "\n",
        "\n",
        "### 4. Monte uma tabela com as colunas valor de n, cond(A), estimativa de cond(A) e erro relativo da solução numérica, para n = 2, 3, 4, ..., 30.\n",
        "- Usando a solução para montar um DataFrame com as colunas \\(n\\), \\( \\text{cond}(A) \\), estimativa de \\( \\text{cond}(A) \\), e o erro relativo da solução numérica. Isso corresponde ao que a quarta questão pede.\n",
        "\n",
        "### 5. Aplique o refinamento iterativo na solução aproximada encontrada para o sistema 30 x 30. A solução aproximada melhorou?\n",
        "- Na última parte, é implementado o refinamento iterativo para o sistema com \\(n = 30\\), atualizando a solução aproximada com base no resíduo e verificando se houve melhoria. A pergunta é respondida se a solução melhorou ou não, conforme o refinamento iterativo foi aplicado.\n",
        "\n"
      ]
    }
  ],
  "metadata": {
    "colab": {
      "provenance": []
    },
    "kernelspec": {
      "display_name": "Python 3",
      "name": "python3"
    },
    "language_info": {
      "name": "python"
    }
  },
  "nbformat": 4,
  "nbformat_minor": 0
}